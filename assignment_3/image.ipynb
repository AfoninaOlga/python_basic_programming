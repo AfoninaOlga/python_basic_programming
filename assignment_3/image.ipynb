{
 "cells": [
  {
   "cell_type": "code",
   "execution_count": null,
   "metadata": {},
   "outputs": [],
   "source": [
    "import numpy as np\n",
    "import cv2\n",
    "from matplotlib import pyplot as plt"
   ]
  },
  {
   "cell_type": "code",
   "execution_count": null,
   "metadata": {},
   "outputs": [],
   "source": [
    "img = cv2.imread('source.jpg')\n",
    "h, w, _ = img.shape\n",
    "image_a = cv2.resize(img, ((w // 4) * 4, (h // 4) * 4))\n",
    "h, w, ch = image_a.shape\n",
    "img2 = cv2.resize(image_a, None, fx=0.5, fy=0.5, interpolation=cv2.INTER_LINEAR)\n",
    "h2, w2, _ = img2.shape\n",
    "img4 = cv2.resize(image_a, None, fx=0.25, fy=0.25, interpolation=cv2.INTER_LINEAR)\n",
    "h4, w4, _ = img4.shape"
   ]
  },
  {
   "cell_type": "code",
   "execution_count": null,
   "metadata": {},
   "outputs": [],
   "source": [
    "image_b = cv2.cvtColor(cv2.Canny(img2, 100, 200), cv2.COLOR_GRAY2RGB)"
   ]
  },
  {
   "cell_type": "code",
   "execution_count": null,
   "metadata": {},
   "outputs": [],
   "source": [
    "image_c = cv2.blur(img4, (5, 5))"
   ]
  },
  {
   "cell_type": "code",
   "execution_count": null,
   "metadata": {},
   "outputs": [],
   "source": [
    "image_d = cv2.GaussianBlur(img4, (5, 5), 0)"
   ]
  },
  {
   "cell_type": "code",
   "execution_count": null,
   "metadata": {},
   "outputs": [],
   "source": [
    "kernel = np.random.rand(10, 10) / 13\n",
    "image_e = cv2.filter2D(img4, -1, kernel)"
   ]
  },
  {
   "cell_type": "code",
   "execution_count": null,
   "metadata": {},
   "outputs": [],
   "source": [
    "image_f = (np.random.rand(*img4.shape) * 255).astype(np.uint8)"
   ]
  },
  {
   "cell_type": "code",
   "execution_count": null,
   "metadata": {},
   "outputs": [],
   "source": [
    "image_res = np.zeros((h, w2 * 3, ch), np.uint8)\n",
    "image_res.fill(255)\n",
    "image_res[:h, :w] = image_a\n",
    "image_res[:h2, w:w+w2] = image_b\n",
    "image_res[h2:h2+h4, w:w+w4] = image_c\n",
    "image_res[h2:h2+h4, w+w4:w+w2] = image_d\n",
    "image_res[h2+h4:h, w:w+w4] = image_e\n",
    "image_res[h2+h4:h, w+w4:w+w2] = image_f\n",
    "cv2.imwrite('result.jpg', image_res)"
   ]
  }
 ],
 "metadata": {
  "kernelspec": {
   "display_name": "Python 3",
   "language": "python",
   "name": "python3"
  },
  "language_info": {
   "codemirror_mode": {
    "name": "ipython",
    "version": 3
   },
   "file_extension": ".py",
   "mimetype": "text/x-python",
   "name": "python",
   "nbconvert_exporter": "python",
   "pygments_lexer": "ipython3",
   "version": "3.7.6"
  }
 },
 "nbformat": 4,
 "nbformat_minor": 4
}
